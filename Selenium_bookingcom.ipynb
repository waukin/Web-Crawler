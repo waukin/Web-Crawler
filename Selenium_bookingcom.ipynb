{
 "cells": [
  {
   "cell_type": "code",
   "execution_count": 1,
   "metadata": {},
   "outputs": [],
   "source": [
    "from selenium import webdriver\n",
    "from bs4 import BeautifulSoup\n",
    "import time\n",
    "import pandas as pd"
   ]
  },
  {
   "cell_type": "code",
   "execution_count": 2,
   "metadata": {},
   "outputs": [
    {
     "name": "stdout",
     "output_type": "stream",
     "text": [
      "去哪裡旅遊?西雅圖\n",
      "出發日期?(請以yyyy-mm-dd輸入)2020-04-13\n",
      "回程日期?(請以yyyy-mm-dd輸入)2020-04-15\n",
      "幾個人一起去?2\n"
     ]
    }
   ],
   "source": [
    "# 輸入訂房資訊\n",
    "where_to_go = input('去哪裡旅遊?')\n",
    "depart_time = input('出發日期?(請以yyyy-mm-dd輸入)')\n",
    "back_time = input('回程日期?(請以yyyy-mm-dd輸入)')\n",
    "man = int(input('幾個人一起去?'))"
   ]
  },
  {
   "cell_type": "code",
   "execution_count": 5,
   "metadata": {},
   "outputs": [],
   "source": [
    "driver = webdriver.Chrome()\n",
    "driver.get('https://www.booking.com')\n",
    "time.sleep(2)\n",
    "destination = driver.find_element_by_name('ss')\n",
    "destination.send_keys(where_to_go)\n",
    "checkin = driver.find_element_by_xpath('//*[@id=\"frm\"]/div[1]/div[2]/div[1]/div[2]/div/div/div/div/span').click()\n",
    "checkin = driver.find_element_by_xpath('//*[@id=\"frm\"]/div[1]/div[2]/div[2]/div/div/div[3]')\n",
    "checkin = driver.find_element_by_css_selector('td[data-date='+'\"'+depart_time +'\"'+']').click()\n",
    "checkout = driver.find_element_by_css_selector('td[data-date='+'\"'+back_time +'\"'+']').click()\n",
    "driver.find_element_by_xpath(\"//form[@id='frm']/div/div[4]/div[2]/button/span\").click()"
   ]
  },
  {
   "cell_type": "code",
   "execution_count": 6,
   "metadata": {},
   "outputs": [],
   "source": [
    "hotel_name_list = []\n",
    "ranking_list = []\n",
    "price_list = []\n",
    "page_list = []\n",
    "# 找出總共多少個頁面\n",
    "current_link = driver.find_element_by_xpath('//*[@id=\"search_results_table\"]/div[4]/nav/ul/li[2]/ul/li[1]/a')\n",
    "url = current_link.get_attribute('href')\n",
    "driver.get(url)\n",
    "soup = BeautifulSoup(driver.page_source, 'html.parser')\n",
    "for page in soup.find_all('div', {'class': 'bui-u-inline'}):\n",
    "    page_list.append(page.text)\n",
    "last_page = int(page_list[-1])\n",
    "\n",
    "# 爬取所有頁面的訂房資料\n",
    "for i in range(1,last_page):\n",
    "    next_link = driver.find_element_by_xpath('//*[@id=\"search_results_table\"]/div[4]/nav/ul/li[3]/a')\n",
    "    url = next_link.get_attribute('href')\n",
    "    driver.get(url)\n",
    "    soup = BeautifulSoup(driver.page_source, 'html.parser')\n",
    "    time.sleep(1)\n",
    "    for ele in soup.find_all('div', {'class': 'sr_item_content sr_item_content_slider_wrapper '}):\n",
    "        try:\n",
    "            hotel_name = ele.find('span', {'class': 'sr-hotel__name'}).text\n",
    "            ranking = ele.find('div', {'class': 'bui-review-score__badge'}).text\n",
    "            price = ele.find('div', {'class': 'bui-price-display__value prco-inline-block-maker-helper'}).text\n",
    "            hotel_name_list.append(hotel_name.split('\\n')[1].split('（')[0])\n",
    "            ranking_list.append(ranking)\n",
    "            price_list.append(price.split('\\n')[1])\n",
    "        except AttributeError:\n",
    "            pass\n",
    "    time.sleep(1)"
   ]
  },
  {
   "cell_type": "code",
   "execution_count": 7,
   "metadata": {},
   "outputs": [],
   "source": [
    "# 整理成DataFrame格式\n",
    "choice = pd.DataFrame()\n",
    "choice['hotel_name'] = hotel_name_list\n",
    "choice['ranking'] = ranking_list\n",
    "choice['price'] = price_list"
   ]
  },
  {
   "cell_type": "code",
   "execution_count": 8,
   "metadata": {},
   "outputs": [
    {
     "data": {
      "text/html": [
       "<div>\n",
       "<style scoped>\n",
       "    .dataframe tbody tr th:only-of-type {\n",
       "        vertical-align: middle;\n",
       "    }\n",
       "\n",
       "    .dataframe tbody tr th {\n",
       "        vertical-align: top;\n",
       "    }\n",
       "\n",
       "    .dataframe thead th {\n",
       "        text-align: right;\n",
       "    }\n",
       "</style>\n",
       "<table border=\"1\" class=\"dataframe\">\n",
       "  <thead>\n",
       "    <tr style=\"text-align: right;\">\n",
       "      <th></th>\n",
       "      <th>hotel_name</th>\n",
       "      <th>ranking</th>\n",
       "      <th>price</th>\n",
       "    </tr>\n",
       "  </thead>\n",
       "  <tbody>\n",
       "    <tr>\n",
       "      <th>0</th>\n",
       "      <td>The Grove West Seattle Inn</td>\n",
       "      <td>8.5</td>\n",
       "      <td>TWD 5,357</td>\n",
       "    </tr>\n",
       "    <tr>\n",
       "      <th>1</th>\n",
       "      <td>Executive Inn by the Space Needle</td>\n",
       "      <td>8.1</td>\n",
       "      <td>TWD 4,048</td>\n",
       "    </tr>\n",
       "    <tr>\n",
       "      <th>2</th>\n",
       "      <td>Residence Inn by Marriott Seattle University D...</td>\n",
       "      <td>9.3</td>\n",
       "      <td>TWD 7,162</td>\n",
       "    </tr>\n",
       "    <tr>\n",
       "      <th>3</th>\n",
       "      <td>The Apple Theory Seattle</td>\n",
       "      <td>4.1</td>\n",
       "      <td>TWD 3,491</td>\n",
       "    </tr>\n",
       "    <tr>\n",
       "      <th>4</th>\n",
       "      <td>Stewart Place Apartments by Barsala</td>\n",
       "      <td>7.6</td>\n",
       "      <td>TWD 4,186</td>\n",
       "    </tr>\n",
       "    <tr>\n",
       "      <th>5</th>\n",
       "      <td>Staypineapple at Watertown Hotel</td>\n",
       "      <td>8.8</td>\n",
       "      <td>TWD 7,111</td>\n",
       "    </tr>\n",
       "    <tr>\n",
       "      <th>6</th>\n",
       "      <td>Pier 52 Residences by Barsala</td>\n",
       "      <td>7.8</td>\n",
       "      <td>TWD 7,343</td>\n",
       "    </tr>\n",
       "    <tr>\n",
       "      <th>7</th>\n",
       "      <td>Residence Inn by Marriott Seattle Downtown/Lak...</td>\n",
       "      <td>8.3</td>\n",
       "      <td>TWD 11,664</td>\n",
       "    </tr>\n",
       "    <tr>\n",
       "      <th>8</th>\n",
       "      <td>Westlake Luxe Apartments by Barsala</td>\n",
       "      <td>7.7</td>\n",
       "      <td>TWD 6,741</td>\n",
       "    </tr>\n",
       "    <tr>\n",
       "      <th>9</th>\n",
       "      <td>Mozart Guest House Seattle Bed and Breakfast</td>\n",
       "      <td>9.1</td>\n",
       "      <td>TWD 5,056</td>\n",
       "    </tr>\n",
       "  </tbody>\n",
       "</table>\n",
       "</div>"
      ],
      "text/plain": [
       "                                          hotel_name ranking       price\n",
       "0                         The Grove West Seattle Inn    8.5    TWD 5,357\n",
       "1                  Executive Inn by the Space Needle    8.1    TWD 4,048\n",
       "2  Residence Inn by Marriott Seattle University D...    9.3    TWD 7,162\n",
       "3                           The Apple Theory Seattle    4.1    TWD 3,491\n",
       "4                Stewart Place Apartments by Barsala    7.6    TWD 4,186\n",
       "5                   Staypineapple at Watertown Hotel    8.8    TWD 7,111\n",
       "6                      Pier 52 Residences by Barsala    7.8    TWD 7,343\n",
       "7  Residence Inn by Marriott Seattle Downtown/Lak...    8.3   TWD 11,664\n",
       "8                Westlake Luxe Apartments by Barsala    7.7    TWD 6,741\n",
       "9       Mozart Guest House Seattle Bed and Breakfast    9.1    TWD 5,056"
      ]
     },
     "execution_count": 8,
     "metadata": {},
     "output_type": "execute_result"
    }
   ],
   "source": [
    "choice.head(10)"
   ]
  }
 ],
 "metadata": {
  "kernelspec": {
   "display_name": "Python 3",
   "language": "python",
   "name": "python3"
  },
  "language_info": {
   "codemirror_mode": {
    "name": "ipython",
    "version": 3
   },
   "file_extension": ".py",
   "mimetype": "text/x-python",
   "name": "python",
   "nbconvert_exporter": "python",
   "pygments_lexer": "ipython3",
   "version": "3.7.1"
  }
 },
 "nbformat": 4,
 "nbformat_minor": 2
}
